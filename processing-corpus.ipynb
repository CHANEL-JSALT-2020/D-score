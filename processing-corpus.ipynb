{
 "cells": [
  {
   "cell_type": "code",
   "execution_count": 1,
   "metadata": {},
   "outputs": [],
   "source": [
    "import glob\n",
    "import codecs\n",
    "import pandas as pd\n",
    "from tqdm.notebook import tqdm"
   ]
  },
  {
   "cell_type": "code",
   "execution_count": 6,
   "metadata": {},
   "outputs": [],
   "source": [
    "f_list = glob.glob('data/book-dummy/text_*')"
   ]
  },
  {
   "cell_type": "code",
   "execution_count": 7,
   "metadata": {},
   "outputs": [],
   "source": [
    "documents = []\n",
    "for f in f_list:\n",
    "    with codecs.open(f, mode='r', encoding='utf-8') as rf:\n",
    "        docs = rf.read()\n",
    "    documents.append(docs.split('\\n'))"
   ]
  },
  {
   "cell_type": "code",
   "execution_count": 8,
   "metadata": {},
   "outputs": [
    {
     "data": {
      "text/plain": [
       "10"
      ]
     },
     "execution_count": 8,
     "metadata": {},
     "output_type": "execute_result"
    }
   ],
   "source": [
    "len(documents)"
   ]
  },
  {
   "cell_type": "code",
   "execution_count": 9,
   "metadata": {},
   "outputs": [],
   "source": [
    "train_docs = documents[:8]\n",
    "valid_docs = documents[8]\n",
    "test_docs = documents[9]"
   ]
  },
  {
   "cell_type": "code",
   "execution_count": 10,
   "metadata": {},
   "outputs": [
    {
     "data": {
      "application/vnd.jupyter.widget-view+json": {
       "model_id": "0e2c568563094232a17323d60e2bb0a4",
       "version_major": 2,
       "version_minor": 0
      },
      "text/plain": [
       "HBox(children=(FloatProgress(value=0.0, max=8.0), HTML(value='')))"
      ]
     },
     "metadata": {},
     "output_type": "display_data"
    },
    {
     "name": "stdout",
     "output_type": "stream",
     "text": [
      "\n"
     ]
    }
   ],
   "source": [
    "train_docs = [[sent.lstrip(\"\\'\").rstrip(\"\\'\").replace('\"', '').replace(\"`\", '') for sent in doc] for doc in tqdm(train_docs)]"
   ]
  },
  {
   "cell_type": "code",
   "execution_count": 11,
   "metadata": {},
   "outputs": [
    {
     "data": {
      "application/vnd.jupyter.widget-view+json": {
       "model_id": "f5839fef92094100a0bc86e5c6c22b0c",
       "version_major": 2,
       "version_minor": 0
      },
      "text/plain": [
       "HBox(children=(FloatProgress(value=0.0, max=8.0), HTML(value='')))"
      ]
     },
     "metadata": {},
     "output_type": "display_data"
    },
    {
     "name": "stdout",
     "output_type": "stream",
     "text": [
      "\n"
     ]
    }
   ],
   "source": [
    "paragraphs = []\n",
    "paragraph = []\n",
    "for doc in tqdm(train_docs):\n",
    "    for idx, l in enumerate(doc):\n",
    "        if (len(paragraph) + 1) % 20 == 0:\n",
    "            paragraph.append(l)\n",
    "            paragraphs.append(paragraph)\n",
    "            paragraph = []\n",
    "        else:\n",
    "            paragraph.append(l)"
   ]
  },
  {
   "cell_type": "code",
   "execution_count": 13,
   "metadata": {},
   "outputs": [],
   "source": [
    "train_meta = []\n",
    "train_seg_list = []\n",
    "for idx, para in enumerate(paragraphs):\n",
    "    para_id = 'book-{:06d}'.format(idx)\n",
    "    split = 'train'\n",
    "    train_meta.append([para_id, split])\n",
    "    for k, sent in enumerate(para):\n",
    "        seg_id = para_id + '-{:04d}'.format(k)\n",
    "        seg = sent\n",
    "        train_seg_list.append([seg_id, seg])"
   ]
  },
  {
   "cell_type": "code",
   "execution_count": 15,
   "metadata": {},
   "outputs": [],
   "source": [
    "train_meta_df = pd.DataFrame(train_meta)"
   ]
  },
  {
   "cell_type": "code",
   "execution_count": 16,
   "metadata": {},
   "outputs": [],
   "source": [
    "train_seg_df = pd.DataFrame(train_seg_list)"
   ]
  },
  {
   "cell_type": "code",
   "execution_count": 17,
   "metadata": {},
   "outputs": [],
   "source": [
    "train_meta_df.columns = ['paragraph_id', 'type']"
   ]
  },
  {
   "cell_type": "code",
   "execution_count": 18,
   "metadata": {},
   "outputs": [],
   "source": [
    "train_seg_df.columns = ['UID', 'SEG']"
   ]
  },
  {
   "cell_type": "code",
   "execution_count": 26,
   "metadata": {},
   "outputs": [
    {
     "data": {
      "text/html": [
       "<div>\n",
       "<style scoped>\n",
       "    .dataframe tbody tr th:only-of-type {\n",
       "        vertical-align: middle;\n",
       "    }\n",
       "\n",
       "    .dataframe tbody tr th {\n",
       "        vertical-align: top;\n",
       "    }\n",
       "\n",
       "    .dataframe thead th {\n",
       "        text-align: right;\n",
       "    }\n",
       "</style>\n",
       "<table border=\"1\" class=\"dataframe\">\n",
       "  <thead>\n",
       "    <tr style=\"text-align: right;\">\n",
       "      <th></th>\n",
       "      <th>UID</th>\n",
       "      <th>SEG</th>\n",
       "    </tr>\n",
       "  </thead>\n",
       "  <tbody>\n",
       "    <tr>\n",
       "      <th>0</th>\n",
       "      <td>book-000000-0000</td>\n",
       "      <td>did they forget about us or what ?</td>\n",
       "    </tr>\n",
       "    <tr>\n",
       "      <th>1</th>\n",
       "      <td>book-000000-0001</td>\n",
       "      <td>probably got sidetracked by the bright lights...</td>\n",
       "    </tr>\n",
       "    <tr>\n",
       "      <th>2</th>\n",
       "      <td>book-000000-0002</td>\n",
       "      <td>joel looked at me , his mouth hanging open .</td>\n",
       "    </tr>\n",
       "    <tr>\n",
       "      <th>3</th>\n",
       "      <td>book-000000-0003</td>\n",
       "      <td>he apparently had n't expected that zinger , b...</td>\n",
       "    </tr>\n",
       "    <tr>\n",
       "      <th>4</th>\n",
       "      <td>book-000000-0004</td>\n",
       "      <td>sorry .</td>\n",
       "    </tr>\n",
       "    <tr>\n",
       "      <th>...</th>\n",
       "      <td>...</td>\n",
       "      <td>...</td>\n",
       "    </tr>\n",
       "    <tr>\n",
       "      <th>195</th>\n",
       "      <td>book-000009-0015</td>\n",
       "      <td>i picked up the binoculars to watch .</td>\n",
       "    </tr>\n",
       "    <tr>\n",
       "      <th>196</th>\n",
       "      <td>book-000009-0016</td>\n",
       "      <td>her thick brown hair bounced off her shoulders...</td>\n",
       "    </tr>\n",
       "    <tr>\n",
       "      <th>197</th>\n",
       "      <td>book-000009-0017</td>\n",
       "      <td>she crossed to aiden 's car and leaned in the ...</td>\n",
       "    </tr>\n",
       "    <tr>\n",
       "      <th>198</th>\n",
       "      <td>book-000009-0018</td>\n",
       "      <td>she laughed , glancing around the parking lot ...</td>\n",
       "    </tr>\n",
       "    <tr>\n",
       "      <th>199</th>\n",
       "      <td>book-000009-0019</td>\n",
       "      <td>and then she got in .</td>\n",
       "    </tr>\n",
       "  </tbody>\n",
       "</table>\n",
       "<p>200 rows × 2 columns</p>\n",
       "</div>"
      ],
      "text/plain": [
       "                  UID                                                SEG\n",
       "0    book-000000-0000                did they forget about us or what ? \n",
       "1    book-000000-0001   probably got sidetracked by the bright lights...\n",
       "2    book-000000-0002       joel looked at me , his mouth hanging open .\n",
       "3    book-000000-0003  he apparently had n't expected that zinger , b...\n",
       "4    book-000000-0004                                           sorry . \n",
       "..                ...                                                ...\n",
       "195  book-000009-0015              i picked up the binoculars to watch .\n",
       "196  book-000009-0016  her thick brown hair bounced off her shoulders...\n",
       "197  book-000009-0017  she crossed to aiden 's car and leaned in the ...\n",
       "198  book-000009-0018  she laughed , glancing around the parking lot ...\n",
       "199  book-000009-0019                              and then she got in .\n",
       "\n",
       "[200 rows x 2 columns]"
      ]
     },
     "execution_count": 26,
     "metadata": {},
     "output_type": "execute_result"
    }
   ],
   "source": [
    "train_seg_df"
   ]
  },
  {
   "cell_type": "code",
   "execution_count": 27,
   "metadata": {},
   "outputs": [
    {
     "data": {
      "application/vnd.jupyter.widget-view+json": {
       "model_id": "37a50755e16e40dc9264b2e7eea61606",
       "version_major": 2,
       "version_minor": 0
      },
      "text/plain": [
       "HBox(children=(FloatProgress(value=0.0, max=1.0), HTML(value='')))"
      ]
     },
     "metadata": {},
     "output_type": "display_data"
    },
    {
     "name": "stdout",
     "output_type": "stream",
     "text": [
      "\n"
     ]
    }
   ],
   "source": [
    "valid_paragraphs = []\n",
    "valid_paragraph = []\n",
    "for doc in tqdm([valid_docs]):\n",
    "    for idx, l in enumerate(doc):\n",
    "        if (len(valid_paragraph) + 1) % 20 == 0:\n",
    "            valid_paragraph.append(l)\n",
    "            valid_paragraphs.append(valid_paragraph)\n",
    "            valid_paragraph = []\n",
    "        else:\n",
    "            valid_paragraph.append(l)"
   ]
  },
  {
   "cell_type": "code",
   "execution_count": 28,
   "metadata": {},
   "outputs": [],
   "source": [
    "valid_meta = []\n",
    "valid_seg_list = []\n",
    "for idx, para in enumerate(valid_paragraphs):\n",
    "    para_id = 'book-{:06d}'.format(idx+len(train_meta_df))\n",
    "    split = 'valid'\n",
    "    valid_meta.append([para_id, split])\n",
    "    for k, sent in enumerate(para):\n",
    "        seg_id = para_id + '-{:04d}'.format(k)\n",
    "        seg = sent\n",
    "        valid_seg_list.append([seg_id, seg])"
   ]
  },
  {
   "cell_type": "code",
   "execution_count": 29,
   "metadata": {},
   "outputs": [],
   "source": [
    "for item in valid_meta:\n",
    "    train_meta_df.loc[len(train_meta_df)] = item"
   ]
  },
  {
   "cell_type": "code",
   "execution_count": 30,
   "metadata": {},
   "outputs": [
    {
     "data": {
      "application/vnd.jupyter.widget-view+json": {
       "model_id": "032408f84c0b4342863dd3a1f0522c27",
       "version_major": 2,
       "version_minor": 0
      },
      "text/plain": [
       "HBox(children=(FloatProgress(value=0.0), HTML(value='')))"
      ]
     },
     "metadata": {},
     "output_type": "display_data"
    },
    {
     "name": "stdout",
     "output_type": "stream",
     "text": [
      "\n"
     ]
    }
   ],
   "source": [
    "for item in tqdm(valid_seg_list):\n",
    "    train_seg_df.loc[len(train_seg_df)] = item"
   ]
  },
  {
   "cell_type": "code",
   "execution_count": 31,
   "metadata": {},
   "outputs": [
    {
     "data": {
      "application/vnd.jupyter.widget-view+json": {
       "model_id": "2206eb93df1a4247a2e75882294c476a",
       "version_major": 2,
       "version_minor": 0
      },
      "text/plain": [
       "HBox(children=(FloatProgress(value=0.0, max=1.0), HTML(value='')))"
      ]
     },
     "metadata": {},
     "output_type": "display_data"
    },
    {
     "name": "stdout",
     "output_type": "stream",
     "text": [
      "\n"
     ]
    }
   ],
   "source": [
    "test_paragraphs = []\n",
    "test_paragraph = []\n",
    "for doc in tqdm([test_docs]):\n",
    "    for idx, l in enumerate(doc):\n",
    "        if (len(test_paragraph) + 1) % 20 == 0:\n",
    "            test_paragraph.append(l)\n",
    "            test_paragraphs.append(test_paragraph)\n",
    "            test_paragraph = []\n",
    "        else:\n",
    "            test_paragraph.append(l)"
   ]
  },
  {
   "cell_type": "code",
   "execution_count": 32,
   "metadata": {},
   "outputs": [],
   "source": [
    "test_meta = []\n",
    "test_seg_list = []\n",
    "for idx, para in enumerate(test_paragraphs):\n",
    "    para_id = 'book-{:06d}'.format(idx+len(train_meta_df))\n",
    "    split = 'test'\n",
    "    test_meta.append([para_id, split])\n",
    "    for k, sent in enumerate(para):\n",
    "        seg_id = para_id + '-{:04d}'.format(k)\n",
    "        seg = sent\n",
    "        test_seg_list.append([seg_id, seg])"
   ]
  },
  {
   "cell_type": "code",
   "execution_count": 33,
   "metadata": {},
   "outputs": [],
   "source": [
    "for item in test_meta:\n",
    "    train_meta_df.loc[len(train_meta_df)] = item"
   ]
  },
  {
   "cell_type": "code",
   "execution_count": 34,
   "metadata": {},
   "outputs": [
    {
     "data": {
      "application/vnd.jupyter.widget-view+json": {
       "model_id": "46a97ef0f71b410c9694b772f369d438",
       "version_major": 2,
       "version_minor": 0
      },
      "text/plain": [
       "HBox(children=(FloatProgress(value=0.0), HTML(value='')))"
      ]
     },
     "metadata": {},
     "output_type": "display_data"
    },
    {
     "name": "stdout",
     "output_type": "stream",
     "text": [
      "\n"
     ]
    }
   ],
   "source": [
    "for item in tqdm(test_seg_list):\n",
    "    train_seg_df.loc[len(train_seg_df)] = item"
   ]
  },
  {
   "cell_type": "code",
   "execution_count": 35,
   "metadata": {},
   "outputs": [
    {
     "data": {
      "text/html": [
       "<div>\n",
       "<style scoped>\n",
       "    .dataframe tbody tr th:only-of-type {\n",
       "        vertical-align: middle;\n",
       "    }\n",
       "\n",
       "    .dataframe tbody tr th {\n",
       "        vertical-align: top;\n",
       "    }\n",
       "\n",
       "    .dataframe thead th {\n",
       "        text-align: right;\n",
       "    }\n",
       "</style>\n",
       "<table border=\"1\" class=\"dataframe\">\n",
       "  <thead>\n",
       "    <tr style=\"text-align: right;\">\n",
       "      <th></th>\n",
       "      <th>UID</th>\n",
       "      <th>SEG</th>\n",
       "    </tr>\n",
       "  </thead>\n",
       "  <tbody>\n",
       "    <tr>\n",
       "      <th>0</th>\n",
       "      <td>book-000000-0000</td>\n",
       "      <td>did they forget about us or what ?</td>\n",
       "    </tr>\n",
       "    <tr>\n",
       "      <th>1</th>\n",
       "      <td>book-000000-0001</td>\n",
       "      <td>probably got sidetracked by the bright lights...</td>\n",
       "    </tr>\n",
       "    <tr>\n",
       "      <th>2</th>\n",
       "      <td>book-000000-0002</td>\n",
       "      <td>joel looked at me , his mouth hanging open .</td>\n",
       "    </tr>\n",
       "    <tr>\n",
       "      <th>3</th>\n",
       "      <td>book-000000-0003</td>\n",
       "      <td>he apparently had n't expected that zinger , b...</td>\n",
       "    </tr>\n",
       "    <tr>\n",
       "      <th>4</th>\n",
       "      <td>book-000000-0004</td>\n",
       "      <td>sorry .</td>\n",
       "    </tr>\n",
       "    <tr>\n",
       "      <th>...</th>\n",
       "      <td>...</td>\n",
       "      <td>...</td>\n",
       "    </tr>\n",
       "    <tr>\n",
       "      <th>395</th>\n",
       "      <td>book-000019-0015</td>\n",
       "      <td>`` very well , then , '' i said , trying to su...</td>\n",
       "    </tr>\n",
       "    <tr>\n",
       "      <th>396</th>\n",
       "      <td>book-000019-0016</td>\n",
       "      <td>`` i 'll return as soon as i 've made the arra...</td>\n",
       "    </tr>\n",
       "    <tr>\n",
       "      <th>397</th>\n",
       "      <td>book-000019-0017</td>\n",
       "      <td>i was just signing the last of the papers to r...</td>\n",
       "    </tr>\n",
       "    <tr>\n",
       "      <th>398</th>\n",
       "      <td>book-000019-0018</td>\n",
       "      <td>`` what brings you to scotland yard , miss hol...</td>\n",
       "    </tr>\n",
       "    <tr>\n",
       "      <th>399</th>\n",
       "      <td>book-000019-0019</td>\n",
       "      <td>i managed to keep my handwriting from jolting .</td>\n",
       "    </tr>\n",
       "  </tbody>\n",
       "</table>\n",
       "<p>400 rows × 2 columns</p>\n",
       "</div>"
      ],
      "text/plain": [
       "                  UID                                                SEG\n",
       "0    book-000000-0000                did they forget about us or what ? \n",
       "1    book-000000-0001   probably got sidetracked by the bright lights...\n",
       "2    book-000000-0002       joel looked at me , his mouth hanging open .\n",
       "3    book-000000-0003  he apparently had n't expected that zinger , b...\n",
       "4    book-000000-0004                                           sorry . \n",
       "..                ...                                                ...\n",
       "395  book-000019-0015  `` very well , then , '' i said , trying to su...\n",
       "396  book-000019-0016  `` i 'll return as soon as i 've made the arra...\n",
       "397  book-000019-0017  i was just signing the last of the papers to r...\n",
       "398  book-000019-0018  `` what brings you to scotland yard , miss hol...\n",
       "399  book-000019-0019    i managed to keep my handwriting from jolting .\n",
       "\n",
       "[400 rows x 2 columns]"
      ]
     },
     "execution_count": 35,
     "metadata": {},
     "output_type": "execute_result"
    }
   ],
   "source": [
    "train_seg_df"
   ]
  },
  {
   "cell_type": "code",
   "execution_count": 36,
   "metadata": {},
   "outputs": [
    {
     "data": {
      "text/html": [
       "<div>\n",
       "<style scoped>\n",
       "    .dataframe tbody tr th:only-of-type {\n",
       "        vertical-align: middle;\n",
       "    }\n",
       "\n",
       "    .dataframe tbody tr th {\n",
       "        vertical-align: top;\n",
       "    }\n",
       "\n",
       "    .dataframe thead th {\n",
       "        text-align: right;\n",
       "    }\n",
       "</style>\n",
       "<table border=\"1\" class=\"dataframe\">\n",
       "  <thead>\n",
       "    <tr style=\"text-align: right;\">\n",
       "      <th></th>\n",
       "      <th>paragraph_id</th>\n",
       "      <th>type</th>\n",
       "    </tr>\n",
       "  </thead>\n",
       "  <tbody>\n",
       "    <tr>\n",
       "      <th>0</th>\n",
       "      <td>book-000000</td>\n",
       "      <td>train</td>\n",
       "    </tr>\n",
       "    <tr>\n",
       "      <th>1</th>\n",
       "      <td>book-000001</td>\n",
       "      <td>train</td>\n",
       "    </tr>\n",
       "    <tr>\n",
       "      <th>2</th>\n",
       "      <td>book-000002</td>\n",
       "      <td>train</td>\n",
       "    </tr>\n",
       "    <tr>\n",
       "      <th>3</th>\n",
       "      <td>book-000003</td>\n",
       "      <td>train</td>\n",
       "    </tr>\n",
       "    <tr>\n",
       "      <th>4</th>\n",
       "      <td>book-000004</td>\n",
       "      <td>train</td>\n",
       "    </tr>\n",
       "    <tr>\n",
       "      <th>5</th>\n",
       "      <td>book-000005</td>\n",
       "      <td>train</td>\n",
       "    </tr>\n",
       "    <tr>\n",
       "      <th>6</th>\n",
       "      <td>book-000006</td>\n",
       "      <td>train</td>\n",
       "    </tr>\n",
       "    <tr>\n",
       "      <th>7</th>\n",
       "      <td>book-000007</td>\n",
       "      <td>train</td>\n",
       "    </tr>\n",
       "    <tr>\n",
       "      <th>8</th>\n",
       "      <td>book-000008</td>\n",
       "      <td>train</td>\n",
       "    </tr>\n",
       "    <tr>\n",
       "      <th>9</th>\n",
       "      <td>book-000009</td>\n",
       "      <td>train</td>\n",
       "    </tr>\n",
       "    <tr>\n",
       "      <th>10</th>\n",
       "      <td>book-000010</td>\n",
       "      <td>valid</td>\n",
       "    </tr>\n",
       "    <tr>\n",
       "      <th>11</th>\n",
       "      <td>book-000011</td>\n",
       "      <td>valid</td>\n",
       "    </tr>\n",
       "    <tr>\n",
       "      <th>12</th>\n",
       "      <td>book-000012</td>\n",
       "      <td>valid</td>\n",
       "    </tr>\n",
       "    <tr>\n",
       "      <th>13</th>\n",
       "      <td>book-000013</td>\n",
       "      <td>valid</td>\n",
       "    </tr>\n",
       "    <tr>\n",
       "      <th>14</th>\n",
       "      <td>book-000014</td>\n",
       "      <td>valid</td>\n",
       "    </tr>\n",
       "    <tr>\n",
       "      <th>15</th>\n",
       "      <td>book-000015</td>\n",
       "      <td>test</td>\n",
       "    </tr>\n",
       "    <tr>\n",
       "      <th>16</th>\n",
       "      <td>book-000016</td>\n",
       "      <td>test</td>\n",
       "    </tr>\n",
       "    <tr>\n",
       "      <th>17</th>\n",
       "      <td>book-000017</td>\n",
       "      <td>test</td>\n",
       "    </tr>\n",
       "    <tr>\n",
       "      <th>18</th>\n",
       "      <td>book-000018</td>\n",
       "      <td>test</td>\n",
       "    </tr>\n",
       "    <tr>\n",
       "      <th>19</th>\n",
       "      <td>book-000019</td>\n",
       "      <td>test</td>\n",
       "    </tr>\n",
       "  </tbody>\n",
       "</table>\n",
       "</div>"
      ],
      "text/plain": [
       "   paragraph_id   type\n",
       "0   book-000000  train\n",
       "1   book-000001  train\n",
       "2   book-000002  train\n",
       "3   book-000003  train\n",
       "4   book-000004  train\n",
       "5   book-000005  train\n",
       "6   book-000006  train\n",
       "7   book-000007  train\n",
       "8   book-000008  train\n",
       "9   book-000009  train\n",
       "10  book-000010  valid\n",
       "11  book-000011  valid\n",
       "12  book-000012  valid\n",
       "13  book-000013  valid\n",
       "14  book-000014  valid\n",
       "15  book-000015   test\n",
       "16  book-000016   test\n",
       "17  book-000017   test\n",
       "18  book-000018   test\n",
       "19  book-000019   test"
      ]
     },
     "execution_count": 36,
     "metadata": {},
     "output_type": "execute_result"
    }
   ],
   "source": [
    "train_meta_df"
   ]
  },
  {
   "cell_type": "code",
   "execution_count": 37,
   "metadata": {},
   "outputs": [],
   "source": [
    "train_meta_df.to_csv(\"data/book/book_dummy_meta.csv\", index=None)"
   ]
  },
  {
   "cell_type": "code",
   "execution_count": 38,
   "metadata": {},
   "outputs": [],
   "source": [
    "train_seg_df.to_csv(\"data/book/book_dummy_main.csv\", index=None)"
   ]
  },
  {
   "cell_type": "code",
   "execution_count": null,
   "metadata": {},
   "outputs": [],
   "source": []
  }
 ],
 "metadata": {
  "kernelspec": {
   "display_name": "Python (tensorflow-1.15)",
   "language": "python",
   "name": "tensorflow-1.15"
  },
  "language_info": {
   "codemirror_mode": {
    "name": "ipython",
    "version": 3
   },
   "file_extension": ".py",
   "mimetype": "text/x-python",
   "name": "python",
   "nbconvert_exporter": "python",
   "pygments_lexer": "ipython3",
   "version": "3.7.7"
  }
 },
 "nbformat": 4,
 "nbformat_minor": 4
}
