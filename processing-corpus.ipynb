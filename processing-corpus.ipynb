{
 "cells": [
  {
   "cell_type": "code",
   "execution_count": 21,
   "metadata": {},
   "outputs": [],
   "source": [
    "import glob\n",
    "import codecs\n",
    "from tqdm.notebook import tqdm"
   ]
  },
  {
   "cell_type": "code",
   "execution_count": 8,
   "metadata": {},
   "outputs": [],
   "source": [
    "f_list = glob.glob('book-dummy/text_*')"
   ]
  },
  {
   "cell_type": "code",
   "execution_count": 11,
   "metadata": {},
   "outputs": [],
   "source": [
    "documents = []\n",
    "for f in f_list:\n",
    "    with codecs.open(f, mode='r', encoding='utf-8') as rf:\n",
    "        docs = rf.read()\n",
    "    documents.append(docs.split('\\n'))"
   ]
  },
  {
   "cell_type": "code",
   "execution_count": 12,
   "metadata": {},
   "outputs": [
    {
     "data": {
      "text/plain": [
       "10"
      ]
     },
     "execution_count": 12,
     "metadata": {},
     "output_type": "execute_result"
    }
   ],
   "source": [
    "len(documents)"
   ]
  },
  {
   "cell_type": "code",
   "execution_count": 13,
   "metadata": {},
   "outputs": [],
   "source": [
    "train_docs = documents[:8]\n",
    "valid_docs = documents[8]\n",
    "test_docs = documents[9]"
   ]
  },
  {
   "cell_type": "code",
   "execution_count": 28,
   "metadata": {},
   "outputs": [
    {
     "data": {
      "application/vnd.jupyter.widget-view+json": {
       "model_id": "bfc8413426414e5798601e0af135a650",
       "version_major": 2,
       "version_minor": 0
      },
      "text/plain": [
       "HBox(children=(FloatProgress(value=0.0, max=8.0), HTML(value='')))"
      ]
     },
     "metadata": {},
     "output_type": "display_data"
    },
    {
     "name": "stdout",
     "output_type": "stream",
     "text": [
      "\n"
     ]
    }
   ],
   "source": [
    "train_docs = [[sent.lstrip(\"\\'\").rstrip(\"\\'\").replace('\"', '').replace(\"`\", '') for sent in doc] for doc in tqdm(train_docs)]"
   ]
  },
  {
   "cell_type": "code",
   "execution_count": 36,
   "metadata": {},
   "outputs": [
    {
     "data": {
      "application/vnd.jupyter.widget-view+json": {
       "model_id": "00cc653500c14ba7b58d4aa675549cb6",
       "version_major": 2,
       "version_minor": 0
      },
      "text/plain": [
       "HBox(children=(FloatProgress(value=0.0, max=8.0), HTML(value='')))"
      ]
     },
     "metadata": {},
     "output_type": "display_data"
    },
    {
     "name": "stdout",
     "output_type": "stream",
     "text": [
      "\n"
     ]
    }
   ],
   "source": [
    "paragraphs = []\n",
    "paragraph = []\n",
    "for doc in tqdm(train_docs):\n",
    "    for idx, l in enumerate(doc):\n",
    "        if (len(paragraph) + 1) % 20 == 0:\n",
    "            paragraph.append(l)\n",
    "            paragraphs.append(paragraph)\n",
    "            paragraph = []\n",
    "        else:\n",
    "            paragraph.append(l)"
   ]
  },
  {
   "cell_type": "code",
   "execution_count": 42,
   "metadata": {},
   "outputs": [],
   "source": [
    "train_meta = []\n",
    "train_seg_list = []\n",
    "for idx, para in enumerate(paragraphs):\n",
    "    para_id = 'book-{:06d}'.format(idx)\n",
    "    split = 'train'\n",
    "    train_meta.append([para_id, split])\n",
    "    for k, sent in enumerate(para):\n",
    "        seg_id = para_id + '-{:04d}'.format(k)\n",
    "        seg = sent\n",
    "        train_seg_list.append([seg_id, seg])"
   ]
  },
  {
   "cell_type": "code",
   "execution_count": 46,
   "metadata": {},
   "outputs": [],
   "source": [
    "import pandas as pd"
   ]
  },
  {
   "cell_type": "code",
   "execution_count": 47,
   "metadata": {},
   "outputs": [],
   "source": [
    "train_meta_df = pd.DataFrame(train_meta)"
   ]
  },
  {
   "cell_type": "code",
   "execution_count": 48,
   "metadata": {},
   "outputs": [],
   "source": [
    "train_seg_df = pd.DataFrame(train_seg_list)"
   ]
  },
  {
   "cell_type": "code",
   "execution_count": 51,
   "metadata": {},
   "outputs": [],
   "source": [
    "train_meta_df.columns = ['paragraph_id', 'type']"
   ]
  },
  {
   "cell_type": "code",
   "execution_count": 52,
   "metadata": {},
   "outputs": [],
   "source": [
    "train_seg_df.columns = ['UID', 'SEG']"
   ]
  },
  {
   "cell_type": "code",
   "execution_count": 53,
   "metadata": {},
   "outputs": [
    {
     "data": {
      "text/html": [
       "<div>\n",
       "<style scoped>\n",
       "    .dataframe tbody tr th:only-of-type {\n",
       "        vertical-align: middle;\n",
       "    }\n",
       "\n",
       "    .dataframe tbody tr th {\n",
       "        vertical-align: top;\n",
       "    }\n",
       "\n",
       "    .dataframe thead th {\n",
       "        text-align: right;\n",
       "    }\n",
       "</style>\n",
       "<table border=\"1\" class=\"dataframe\">\n",
       "  <thead>\n",
       "    <tr style=\"text-align: right;\">\n",
       "      <th></th>\n",
       "      <th>UID</th>\n",
       "      <th>SEG</th>\n",
       "    </tr>\n",
       "  </thead>\n",
       "  <tbody>\n",
       "    <tr>\n",
       "      <th>0</th>\n",
       "      <td>book-000000-0000</td>\n",
       "      <td>did they forget about us or what ?</td>\n",
       "    </tr>\n",
       "    <tr>\n",
       "      <th>1</th>\n",
       "      <td>book-000000-0001</td>\n",
       "      <td>probably got sidetracked by the bright lights...</td>\n",
       "    </tr>\n",
       "    <tr>\n",
       "      <th>2</th>\n",
       "      <td>book-000000-0002</td>\n",
       "      <td>joel looked at me , his mouth hanging open .</td>\n",
       "    </tr>\n",
       "    <tr>\n",
       "      <th>3</th>\n",
       "      <td>book-000000-0003</td>\n",
       "      <td>he apparently had n't expected that zinger , b...</td>\n",
       "    </tr>\n",
       "    <tr>\n",
       "      <th>4</th>\n",
       "      <td>book-000000-0004</td>\n",
       "      <td>sorry .</td>\n",
       "    </tr>\n",
       "    <tr>\n",
       "      <th>...</th>\n",
       "      <td>...</td>\n",
       "      <td>...</td>\n",
       "    </tr>\n",
       "    <tr>\n",
       "      <th>159995</th>\n",
       "      <td>book-007999-0015</td>\n",
       "      <td>something like that .</td>\n",
       "    </tr>\n",
       "    <tr>\n",
       "      <th>159996</th>\n",
       "      <td>book-007999-0016</td>\n",
       "      <td>does anybody have food ?</td>\n",
       "    </tr>\n",
       "    <tr>\n",
       "      <th>159997</th>\n",
       "      <td>book-007999-0017</td>\n",
       "      <td>i ask , leaning back on my elbows .</td>\n",
       "    </tr>\n",
       "    <tr>\n",
       "      <th>159998</th>\n",
       "      <td>book-007999-0018</td>\n",
       "      <td>i squint my eyes against the sun as i look ove...</td>\n",
       "    </tr>\n",
       "    <tr>\n",
       "      <th>159999</th>\n",
       "      <td>book-007999-0019</td>\n",
       "      <td>his face is still pale , and i know he must be...</td>\n",
       "    </tr>\n",
       "  </tbody>\n",
       "</table>\n",
       "<p>160000 rows × 2 columns</p>\n",
       "</div>"
      ],
      "text/plain": [
       "                     UID                                                SEG\n",
       "0       book-000000-0000                did they forget about us or what ? \n",
       "1       book-000000-0001   probably got sidetracked by the bright lights...\n",
       "2       book-000000-0002       joel looked at me , his mouth hanging open .\n",
       "3       book-000000-0003  he apparently had n't expected that zinger , b...\n",
       "4       book-000000-0004                                           sorry . \n",
       "...                  ...                                                ...\n",
       "159995  book-007999-0015                             something like that . \n",
       "159996  book-007999-0016                          does anybody have food ? \n",
       "159997  book-007999-0017                i ask , leaning back on my elbows .\n",
       "159998  book-007999-0018  i squint my eyes against the sun as i look ove...\n",
       "159999  book-007999-0019  his face is still pale , and i know he must be...\n",
       "\n",
       "[160000 rows x 2 columns]"
      ]
     },
     "execution_count": 53,
     "metadata": {},
     "output_type": "execute_result"
    }
   ],
   "source": [
    "train_seg_df"
   ]
  },
  {
   "cell_type": "code",
   "execution_count": 57,
   "metadata": {},
   "outputs": [
    {
     "data": {
      "application/vnd.jupyter.widget-view+json": {
       "model_id": "b49d7f3de2ec496d9e45dff4d79929e5",
       "version_major": 2,
       "version_minor": 0
      },
      "text/plain": [
       "HBox(children=(FloatProgress(value=0.0, max=1.0), HTML(value='')))"
      ]
     },
     "metadata": {},
     "output_type": "display_data"
    },
    {
     "name": "stdout",
     "output_type": "stream",
     "text": [
      "\n"
     ]
    }
   ],
   "source": [
    "valid_paragraphs = []\n",
    "valid_paragraph = []\n",
    "for doc in tqdm([valid_docs]):\n",
    "    for idx, l in enumerate(doc):\n",
    "        if (len(valid_paragraph) + 1) % 20 == 0:\n",
    "            valid_paragraph.append(l)\n",
    "            valid_paragraphs.append(valid_paragraph)\n",
    "            valid_paragraph = []\n",
    "        else:\n",
    "            valid_paragraph.append(l)"
   ]
  },
  {
   "cell_type": "code",
   "execution_count": 61,
   "metadata": {},
   "outputs": [],
   "source": [
    "valid_meta = []\n",
    "valid_seg_list = []\n",
    "for idx, para in enumerate(valid_paragraphs):\n",
    "    para_id = 'book-{:06d}'.format(idx+len(train_meta_df))\n",
    "    split = 'valid'\n",
    "    valid_meta.append([para_id, split])\n",
    "    for k, sent in enumerate(para):\n",
    "        seg_id = para_id + '-{:04d}'.format(k)\n",
    "        seg = sent\n",
    "        valid_seg_list.append([seg_id, seg])"
   ]
  },
  {
   "cell_type": "code",
   "execution_count": 64,
   "metadata": {},
   "outputs": [],
   "source": [
    "for item in valid_meta:\n",
    "    train_meta_df.loc[len(train_meta_df)] = item"
   ]
  },
  {
   "cell_type": "code",
   "execution_count": 66,
   "metadata": {},
   "outputs": [],
   "source": [
    "for item in tqdm(valid_seg_list):\n",
    "    train_seg_df.loc[len(train_seg_df)] = item"
   ]
  },
  {
   "cell_type": "code",
   "execution_count": 67,
   "metadata": {},
   "outputs": [
    {
     "data": {
      "application/vnd.jupyter.widget-view+json": {
       "model_id": "66bdd26134ac4255a7f9e5cac6c388c7",
       "version_major": 2,
       "version_minor": 0
      },
      "text/plain": [
       "HBox(children=(FloatProgress(value=0.0, max=1.0), HTML(value='')))"
      ]
     },
     "metadata": {},
     "output_type": "display_data"
    },
    {
     "name": "stdout",
     "output_type": "stream",
     "text": [
      "\n"
     ]
    }
   ],
   "source": [
    "test_paragraphs = []\n",
    "test_paragraph = []\n",
    "for doc in tqdm([test_docs]):\n",
    "    for idx, l in enumerate(doc):\n",
    "        if (len(test_paragraph) + 1) % 20 == 0:\n",
    "            test_paragraph.append(l)\n",
    "            test_paragraphs.append(test_paragraph)\n",
    "            test_paragraph = []\n",
    "        else:\n",
    "            test_paragraph.append(l)"
   ]
  },
  {
   "cell_type": "code",
   "execution_count": 68,
   "metadata": {},
   "outputs": [],
   "source": [
    "test_meta = []\n",
    "test_seg_list = []\n",
    "for idx, para in enumerate(test_paragraphs):\n",
    "    para_id = 'book-{:06d}'.format(idx+len(train_meta_df))\n",
    "    split = 'test'\n",
    "    test_meta.append([para_id, split])\n",
    "    for k, sent in enumerate(para):\n",
    "        seg_id = para_id + '-{:04d}'.format(k)\n",
    "        seg = sent\n",
    "        test_seg_list.append([seg_id, seg])"
   ]
  },
  {
   "cell_type": "code",
   "execution_count": 69,
   "metadata": {},
   "outputs": [],
   "source": [
    "for item in test_meta:\n",
    "    train_meta_df.loc[len(train_meta_df)] = item"
   ]
  },
  {
   "cell_type": "code",
   "execution_count": 70,
   "metadata": {},
   "outputs": [
    {
     "data": {
      "application/vnd.jupyter.widget-view+json": {
       "model_id": "f7c8bc458774426492eef545317abcd5",
       "version_major": 2,
       "version_minor": 0
      },
      "text/plain": [
       "HBox(children=(FloatProgress(value=0.0, max=20000.0), HTML(value='')))"
      ]
     },
     "metadata": {},
     "output_type": "display_data"
    },
    {
     "name": "stdout",
     "output_type": "stream",
     "text": [
      "\n"
     ]
    }
   ],
   "source": [
    "for item in tqdm(test_seg_list):\n",
    "    train_seg_df.loc[len(train_seg_df)] = item"
   ]
  },
  {
   "cell_type": "code",
   "execution_count": 71,
   "metadata": {},
   "outputs": [
    {
     "data": {
      "text/html": [
       "<div>\n",
       "<style scoped>\n",
       "    .dataframe tbody tr th:only-of-type {\n",
       "        vertical-align: middle;\n",
       "    }\n",
       "\n",
       "    .dataframe tbody tr th {\n",
       "        vertical-align: top;\n",
       "    }\n",
       "\n",
       "    .dataframe thead th {\n",
       "        text-align: right;\n",
       "    }\n",
       "</style>\n",
       "<table border=\"1\" class=\"dataframe\">\n",
       "  <thead>\n",
       "    <tr style=\"text-align: right;\">\n",
       "      <th></th>\n",
       "      <th>UID</th>\n",
       "      <th>SEG</th>\n",
       "    </tr>\n",
       "  </thead>\n",
       "  <tbody>\n",
       "    <tr>\n",
       "      <th>0</th>\n",
       "      <td>book-000000-0000</td>\n",
       "      <td>did they forget about us or what ?</td>\n",
       "    </tr>\n",
       "    <tr>\n",
       "      <th>1</th>\n",
       "      <td>book-000000-0001</td>\n",
       "      <td>probably got sidetracked by the bright lights...</td>\n",
       "    </tr>\n",
       "    <tr>\n",
       "      <th>2</th>\n",
       "      <td>book-000000-0002</td>\n",
       "      <td>joel looked at me , his mouth hanging open .</td>\n",
       "    </tr>\n",
       "    <tr>\n",
       "      <th>3</th>\n",
       "      <td>book-000000-0003</td>\n",
       "      <td>he apparently had n't expected that zinger , b...</td>\n",
       "    </tr>\n",
       "    <tr>\n",
       "      <th>4</th>\n",
       "      <td>book-000000-0004</td>\n",
       "      <td>sorry .</td>\n",
       "    </tr>\n",
       "    <tr>\n",
       "      <th>...</th>\n",
       "      <td>...</td>\n",
       "      <td>...</td>\n",
       "    </tr>\n",
       "    <tr>\n",
       "      <th>199995</th>\n",
       "      <td>book-009999-0015</td>\n",
       "      <td>she stopped breathing for a few seconds when s...</td>\n",
       "    </tr>\n",
       "    <tr>\n",
       "      <th>199996</th>\n",
       "      <td>book-009999-0016</td>\n",
       "      <td>it was her driver license picture .</td>\n",
       "    </tr>\n",
       "    <tr>\n",
       "      <th>199997</th>\n",
       "      <td>book-009999-0017</td>\n",
       "      <td>her heartbeat roared in her ears as she paged ...</td>\n",
       "    </tr>\n",
       "    <tr>\n",
       "      <th>199998</th>\n",
       "      <td>book-009999-0018</td>\n",
       "      <td>each of their dmv photos was there , printed i...</td>\n",
       "    </tr>\n",
       "    <tr>\n",
       "      <th>199999</th>\n",
       "      <td>book-009999-0019</td>\n",
       "      <td>a couple other papers were with them , one of ...</td>\n",
       "    </tr>\n",
       "  </tbody>\n",
       "</table>\n",
       "<p>200000 rows × 2 columns</p>\n",
       "</div>"
      ],
      "text/plain": [
       "                     UID                                                SEG\n",
       "0       book-000000-0000                did they forget about us or what ? \n",
       "1       book-000000-0001   probably got sidetracked by the bright lights...\n",
       "2       book-000000-0002       joel looked at me , his mouth hanging open .\n",
       "3       book-000000-0003  he apparently had n't expected that zinger , b...\n",
       "4       book-000000-0004                                           sorry . \n",
       "...                  ...                                                ...\n",
       "199995  book-009999-0015  she stopped breathing for a few seconds when s...\n",
       "199996  book-009999-0016                it was her driver license picture .\n",
       "199997  book-009999-0017  her heartbeat roared in her ears as she paged ...\n",
       "199998  book-009999-0018  each of their dmv photos was there , printed i...\n",
       "199999  book-009999-0019  a couple other papers were with them , one of ...\n",
       "\n",
       "[200000 rows x 2 columns]"
      ]
     },
     "execution_count": 71,
     "metadata": {},
     "output_type": "execute_result"
    }
   ],
   "source": [
    "train_seg_df"
   ]
  },
  {
   "cell_type": "code",
   "execution_count": 72,
   "metadata": {},
   "outputs": [
    {
     "data": {
      "text/html": [
       "<div>\n",
       "<style scoped>\n",
       "    .dataframe tbody tr th:only-of-type {\n",
       "        vertical-align: middle;\n",
       "    }\n",
       "\n",
       "    .dataframe tbody tr th {\n",
       "        vertical-align: top;\n",
       "    }\n",
       "\n",
       "    .dataframe thead th {\n",
       "        text-align: right;\n",
       "    }\n",
       "</style>\n",
       "<table border=\"1\" class=\"dataframe\">\n",
       "  <thead>\n",
       "    <tr style=\"text-align: right;\">\n",
       "      <th></th>\n",
       "      <th>paragraph_id</th>\n",
       "      <th>type</th>\n",
       "    </tr>\n",
       "  </thead>\n",
       "  <tbody>\n",
       "    <tr>\n",
       "      <th>0</th>\n",
       "      <td>book-000000</td>\n",
       "      <td>train</td>\n",
       "    </tr>\n",
       "    <tr>\n",
       "      <th>1</th>\n",
       "      <td>book-000001</td>\n",
       "      <td>train</td>\n",
       "    </tr>\n",
       "    <tr>\n",
       "      <th>2</th>\n",
       "      <td>book-000002</td>\n",
       "      <td>train</td>\n",
       "    </tr>\n",
       "    <tr>\n",
       "      <th>3</th>\n",
       "      <td>book-000003</td>\n",
       "      <td>train</td>\n",
       "    </tr>\n",
       "    <tr>\n",
       "      <th>4</th>\n",
       "      <td>book-000004</td>\n",
       "      <td>train</td>\n",
       "    </tr>\n",
       "    <tr>\n",
       "      <th>...</th>\n",
       "      <td>...</td>\n",
       "      <td>...</td>\n",
       "    </tr>\n",
       "    <tr>\n",
       "      <th>9995</th>\n",
       "      <td>book-009995</td>\n",
       "      <td>test</td>\n",
       "    </tr>\n",
       "    <tr>\n",
       "      <th>9996</th>\n",
       "      <td>book-009996</td>\n",
       "      <td>test</td>\n",
       "    </tr>\n",
       "    <tr>\n",
       "      <th>9997</th>\n",
       "      <td>book-009997</td>\n",
       "      <td>test</td>\n",
       "    </tr>\n",
       "    <tr>\n",
       "      <th>9998</th>\n",
       "      <td>book-009998</td>\n",
       "      <td>test</td>\n",
       "    </tr>\n",
       "    <tr>\n",
       "      <th>9999</th>\n",
       "      <td>book-009999</td>\n",
       "      <td>test</td>\n",
       "    </tr>\n",
       "  </tbody>\n",
       "</table>\n",
       "<p>10000 rows × 2 columns</p>\n",
       "</div>"
      ],
      "text/plain": [
       "     paragraph_id   type\n",
       "0     book-000000  train\n",
       "1     book-000001  train\n",
       "2     book-000002  train\n",
       "3     book-000003  train\n",
       "4     book-000004  train\n",
       "...           ...    ...\n",
       "9995  book-009995   test\n",
       "9996  book-009996   test\n",
       "9997  book-009997   test\n",
       "9998  book-009998   test\n",
       "9999  book-009999   test\n",
       "\n",
       "[10000 rows x 2 columns]"
      ]
     },
     "execution_count": 72,
     "metadata": {},
     "output_type": "execute_result"
    }
   ],
   "source": [
    "train_meta_df"
   ]
  },
  {
   "cell_type": "code",
   "execution_count": 74,
   "metadata": {},
   "outputs": [],
   "source": [
    "train_meta_df.to_csv(\"book_meta.csv\", index=None)"
   ]
  },
  {
   "cell_type": "code",
   "execution_count": 75,
   "metadata": {},
   "outputs": [],
   "source": [
    "train_seg_df.to_csv(\"book_main.csv\", index=None)"
   ]
  },
  {
   "cell_type": "code",
   "execution_count": null,
   "metadata": {},
   "outputs": [],
   "source": []
  }
 ],
 "metadata": {
  "kernelspec": {
   "display_name": "Python (tensorflow-1.15)",
   "language": "python",
   "name": "tensorflow-1.15"
  },
  "language_info": {
   "codemirror_mode": {
    "name": "ipython",
    "version": 3
   },
   "file_extension": ".py",
   "mimetype": "text/x-python",
   "name": "python",
   "nbconvert_exporter": "python",
   "pygments_lexer": "ipython3",
   "version": "3.7.7"
  }
 },
 "nbformat": 4,
 "nbformat_minor": 4
}
